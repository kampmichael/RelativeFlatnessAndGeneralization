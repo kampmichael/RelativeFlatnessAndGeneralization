{
 "cells": [
  {
   "cell_type": "code",
   "execution_count": 1,
   "metadata": {},
   "outputs": [],
   "source": [
    "import numpy as np\n",
    "import matplotlib.pyplot as plt\n",
    "import matplotlib.cm as cm\n",
    "from interpolatingness import *\n",
    "from reverseEngineerNetwork import *\n",
    "from flatness import *\n",
    "\n",
    "from sklearn.datasets import make_classification\n",
    "from sklearn.decomposition import PCA\n",
    "from sklearn.model_selection import train_test_split\n",
    "from sklearn.linear_model import RidgeClassifier\n",
    "rng = np.random.default_rng(7)\n",
    "\n",
    "%load_ext autoreload\n",
    "%autoreload 2"
   ]
  },
  {
   "cell_type": "markdown",
   "metadata": {},
   "source": [
    "# Approximating the Generalization Bound\n",
    "\n",
    "We approximate representativeness via the error of a KDE in feature space. We then compute the proposed relative flatness measure to compute an approximate generalization bound. We also evaluate the train and test error to estimate the generalization gap. "
   ]
  },
  {
   "cell_type": "code",
   "execution_count": 2,
   "metadata": {},
   "outputs": [],
   "source": [
    "def mean_squared_error(y_true, y_pred):\n",
    "    return ((y_true - y_pred)**2).mean(axis=0)\n",
    "\n",
    "def computeGenBoundandGenError(X_train, y_train, X_test, y_test, loss, delta, getRevModel, useVariableKDE = True, returnIndLosses = False):\n",
    "    n,m = X_train.shape\n",
    "    \n",
    "    psi = RidgeClassifier()\n",
    "    psi.fit(X_train, y_train)\n",
    "    RepApprox = approximateIntViaVKDE(X_train, y_train, None, 0.01, mean_squared_error, useVariableKDE = useVariableKDE)\n",
    "    \n",
    "    \n",
    "    f, phi = getRevModel(psi)\n",
    "    origX_train = reverseModelPropagation(phi, X_train)\n",
    "    origX_test  = reverseModelPropagation(phi, X_test)\n",
    "\n",
    "    Ktr, Klmbda, _, _, test_loss, train_loss = computeFlatnessMeasure(f, origX_train, y_train, origX_test, y_test)\n",
    "    \n",
    "    eps = (delta**2/m) * Ktr\n",
    "    \n",
    "    \n",
    "    genBound = eps+RepApprox\n",
    "    genGap   = test_loss-train_loss\n",
    "    if returnIndLosses:\n",
    "        return genBound, genGap, train_loss, test_loss\n",
    "    return genBound, genGap\n",
    "\n",
    "def evaluateGenBoundAndGenGap_inverseCV(Xphi, y, loss, delta, cv = 10, useVariableKDE = True, returnIndLosses = False, trainingDataMax = -1, getRevModel = getReverseEngineeredModel_ridge):\n",
    "    if cv is None or cv == 0:\n",
    "        cv = 1\n",
    "    n,m = Xphi.shape\n",
    "    \n",
    "    genBounds, genGaps = [], []    \n",
    "    trainLosses, testLosses = [], []\n",
    "    idxs = np.arange(n)\n",
    "    RNG.shuffle(idxs)\n",
    "    foldIdxs = np.array_split(idxs, cv)\n",
    "    for i in range(cv):\n",
    "        Testidx = np.concatenate([foldIdxs[j] for j in range(cv) if j != i])\n",
    "        Trainidx  = foldIdxs[i]\n",
    "        if trainingDataMax > 0:\n",
    "            Trainidx = Trainidx[:trainingDataMax]\n",
    "        X_train, y_train, X_test, y_test =  Xphi[Trainidx], y[Trainidx], Xphi[Testidx], y[Testidx]\n",
    "        genBound, genGap, train_loss, test_loss = computeGenBoundandGenError(X_train, y_train, X_test, y_test, mean_squared_error, 0.1, getRevModel, returnIndLosses = True)\n",
    "        genBounds.append(genBound)\n",
    "        genGaps.append(genGap)\n",
    "        trainLosses.append(train_loss)\n",
    "        testLosses.append(test_loss)\n",
    "    avgGenBound = sum(genBounds) / len(genBounds)\n",
    "    avgGenGap = sum(genGaps) / len(genGaps)\n",
    "    if returnIndLosses:\n",
    "        return avgGenBound, avgGenGap, genBounds, genGaps, trainLosses, testLosses\n",
    "    return avgGenBound, avgGenGap, genBounds, genGaps"
   ]
  },
  {
   "cell_type": "markdown",
   "metadata": {},
   "source": [
    "# Computing the Approximate Generalization Bound and Generalization Gap"
   ]
  },
  {
   "cell_type": "code",
   "execution_count": 3,
   "metadata": {},
   "outputs": [
    {
     "name": "stderr",
     "output_type": "stream",
     "text": [
      "C:\\Research\\Projekte\\GeneralizationInInterpolationRegime\\RelativeFlatnessAndGeneralization\\SyntheticExperiments\\reverseEngineerNetwork.py:207: UserWarning: torch.lstsq is deprecated in favor of torch.linalg.lstsq and will be removed in a future PyTorch release.\n",
      "torch.linalg.lstsq has reversed arguments and does not return the QR decomposition in the returned tuple (although it returns other information about the problem).\n",
      "To get the qr decomposition consider using torch.linalg.qr.\n",
      "The returned solution in torch.lstsq stored the residuals of the solution in the last m - n columns of the returned value whenever m > n. In torch.linalg.lstsq, the residuals in the field 'residuals' of the returned named tuple.\n",
      "The unpacking of the solution, as in\n",
      "X, _ = torch.lstsq(B, A).solution[:A.size(1)]\n",
      "should be replaced with\n",
      "X = torch.linalg.lstsq(A, B).solution (Triggered internally at  ..\\aten\\src\\ATen\\LegacyTHFunctionsCPU.cpp:389.)\n",
      "  z = torch.lstsq(z.t(), step.weight)[0].t() #computes the least-squares solution min_x||Wx + b - z||^2_2\n",
      "C:\\Python36\\lib\\site-packages\\torch\\autograd\\__init__.py:228: UserWarning: CUDA initialization: CUDA unknown error - this may be due to an incorrectly set up environment, e.g. changing env variable CUDA_VISIBLE_DEVICES after program start. Setting the available devices to be zero. (Triggered internally at  ..\\c10\\cuda\\CUDAFunctions.cpp:115.)\n",
      "  inputs, allow_unused, accumulate_grad=False)\n"
     ]
    }
   ],
   "source": [
    "n = 600\n",
    "delta = 0.1\n",
    "\n",
    "classSeps = [0.5,0.8,1.0,1.5,2.0,3.0, 4.0, 5.0]\n",
    "Gaps, Bounds, avgGaps, avgBounds = [], [], [], []\n",
    "trainLosses, testLosses, avgTrainLosses, avgTestLosses = [], [], [], []\n",
    "for sep in classSeps:\n",
    "    Xphi, y = make_classification(n_samples=n, n_features=10, n_informative=3, n_redundant=4, class_sep = sep)   \n",
    "    avgGenBound, avgGenGap, genBounds, genGaps, trainLoss, testLoss = evaluateGenBoundAndGenGap_inverseCV(Xphi, y, mean_squared_error, delta, cv= 3, returnIndLosses = True, trainingDataMax = 50)\n",
    "    trainLosses.append(trainLoss)\n",
    "    testLosses.append(testLoss)\n",
    "    avgTrainLosses.append(np.mean(trainLoss))\n",
    "    avgTestLosses.append(np.mean(testLoss))\n",
    "    Gaps.append(genGaps)\n",
    "    Bounds.append(genBounds)\n",
    "    avgGaps.append(avgGenGap)\n",
    "    avgBounds.append(avgGenBound)"
   ]
  },
  {
   "cell_type": "markdown",
   "metadata": {},
   "source": [
    "# Plotting the Results"
   ]
  },
  {
   "cell_type": "code",
   "execution_count": 4,
   "metadata": {},
   "outputs": [
    {
     "name": "stderr",
     "output_type": "stream",
     "text": [
      "*c* argument looks like a single numeric RGB or RGBA sequence, which should be avoided as value-mapping will have precedence in case its length matches with *x* & *y*.  Please use the *color* keyword-argument or provide a 2-D array with a single row if you intend to specify the same RGB or RGBA value for all points.\n",
      "*c* argument looks like a single numeric RGB or RGBA sequence, which should be avoided as value-mapping will have precedence in case its length matches with *x* & *y*.  Please use the *color* keyword-argument or provide a 2-D array with a single row if you intend to specify the same RGB or RGBA value for all points.\n"
     ]
    },
    {
     "data": {
      "image/png": "[encoded data removed]",
      "text/plain": [
       "<Figure size 432x288 with 1 Axes>"
      ]
     },
     "metadata": {
      "needs_background": "light"
     },
     "output_type": "display_data"
    }
   ],
   "source": [
    "cmap = cm.get_cmap(\"viridis\")\n",
    "plt.scatter(range(len(classSeps)), avgGaps, label=\"Generalization Gap\", alpha=0.6, marker='^', s=80, c=cmap(0.3))\n",
    "plt.scatter(range(len(classSeps)), avgBounds, label=\"Generalization Bound\", alpha=0.6, s=80, c=cmap(0.8))\n",
    "#plt.scatter(range(len(classSeps)), avgTrainLosses5, label=\"Train Loss\")\n",
    "#plt.scatter(range(len(classSeps)), avgTestLosses5, label=\"Test Loss\")\n",
    "\n",
    "ax = plt.gca()\n",
    "ax.set_xticks(range(len(classSeps)))\n",
    "ax.set_xticklabels(classSeps)\n",
    "plt.xlabel(r\"class separation\")\n",
    "plt.legend()\n",
    "plt.savefig(\"genBoundApprox.pdf\")\n",
    "plt.show()"
   ]
  },
  {
   "cell_type": "markdown",
   "metadata": {},
   "source": [
    "# Use a different architecture"
   ]
  },
  {
   "cell_type": "code",
   "execution_count": null,
   "metadata": {},
   "outputs": [],
   "source": [
    "rng = np.random.default_rng(15)\n",
    "\n",
    "n = 600\n",
    "delta = 0.1\n",
    "\n",
    "classSeps = [0.5,0.8,1.0,1.5,2.0,3.0, 4.0, 5.0]\n",
    "Gaps, Bounds, avgGaps, avgBounds = [], [], [], []\n",
    "trainLosses, testLosses, avgTrainLosses, avgTestLosses = [], [], [], []\n",
    "for sep in classSeps:\n",
    "    Xphi, y = make_classification(n_samples=n, n_features=10, n_informative=3, n_redundant=4, class_sep = sep)   \n",
    "    avgGenBound, avgGenGap, genBounds, genGaps, trainLoss, testLoss = evaluateGenBoundAndGenGap_inverseCV(Xphi, y, mean_squared_error, delta, cv= 10, returnIndLosses = True, trainingDataMax = 50, getRevModel = getReverseEngineeredModel_DeepRidge)\n",
    "    trainLosses.append(trainLoss)\n",
    "    testLosses.append(testLoss)\n",
    "    avgTrainLosses.append(np.mean(trainLoss))\n",
    "    avgTestLosses.append(np.mean(testLoss))\n",
    "    Gaps.append(genGaps)\n",
    "    Bounds.append(genBounds)\n",
    "    avgGaps.append(avgGenGap)\n",
    "    avgBounds.append(avgGenBound)"
   ]
  },
  {
   "cell_type": "code",
   "execution_count": null,
   "metadata": {},
   "outputs": [
    {
     "name": "stderr",
     "output_type": "stream",
     "text": [
      "*c* argument looks like a single numeric RGB or RGBA sequence, which should be avoided as value-mapping will have precedence in case its length matches with *x* & *y*.  Please use the *color* keyword-argument or provide a 2-D array with a single row if you intend to specify the same RGB or RGBA value for all points.\n",
      "*c* argument looks like a single numeric RGB or RGBA sequence, which should be avoided as value-mapping will have precedence in case its length matches with *x* & *y*.  Please use the *color* keyword-argument or provide a 2-D array with a single row if you intend to specify the same RGB or RGBA value for all points.\n"
     ]
    },
    {
     "data": {
      "image/png": "[encoded data removed]",
      "text/plain": [
       "<Figure size 432x288 with 1 Axes>"
      ]
     },
     "metadata": {
      "needs_background": "light"
     },
     "output_type": "display_data"
    }
   ],
   "source": [
    "cmap = cm.get_cmap(\"viridis\")\n",
    "plt.scatter(range(len(classSeps)), avgGaps, label=\"Generalization Gap\", alpha=0.6, marker='^', s=80, c=cmap(0.3))\n",
    "plt.scatter(range(len(classSeps)), avgBounds, label=\"Generalization Bound\", alpha=0.6, s=80, c=cmap(0.8))\n",
    "#plt.scatter(range(len(classSeps)), avgTrainLosses5, label=\"Train Loss\")\n",
    "#plt.scatter(range(len(classSeps)), avgTestLosses5, label=\"Test Loss\")\n",
    "\n",
    "ax = plt.gca()\n",
    "ax.set_xticks(range(len(classSeps)))\n",
    "ax.set_xticklabels(classSeps)\n",
    "plt.xlabel(r\"class separation\")\n",
    "plt.legend()\n",
    "plt.savefig(\"genBoundApproxDeep.pdf\")\n",
    "plt.show()"
   ]
  },
  {
   "cell_type": "markdown",
   "metadata": {},
   "source": [
    "# Lastly, let's take a different dataset"
   ]
  },
  {
   "cell_type": "code",
   "execution_count": null,
   "metadata": {},
   "outputs": [],
   "source": [
    "rng = np.random.default_rng(6)\n",
    "\n",
    "n = 600\n",
    "delta = 0.1\n",
    "\n",
    "classSeps = [0.5,0.8,1.0,1.5,2.0,3.0, 4.0, 5.0]\n",
    "Gaps, Bounds, avgGaps, avgBounds = [], [], [], []\n",
    "trainLosses, testLosses, avgTrainLosses, avgTestLosses = [], [], [], []\n",
    "for sep in classSeps:\n",
    "    Xphi, y = make_classification(n_samples=n, n_features=16, n_informative=3, n_redundant=4, n_clusters_per_class = 3, class_sep = sep)   \n",
    "    avgGenBound, avgGenGap, genBounds, genGaps, trainLoss, testLoss = evaluateGenBoundAndGenGap_inverseCV(Xphi, y, mean_squared_error, delta, cv= 10, returnIndLosses = True, trainingDataMax = 50, getRevModel = getReverseEngineeredModel_DeepRidge)\n",
    "    trainLosses.append(trainLoss)\n",
    "    testLosses.append(testLoss)\n",
    "    avgTrainLosses.append(np.mean(trainLoss))\n",
    "    avgTestLosses.append(np.mean(testLoss))\n",
    "    Gaps.append(genGaps)\n",
    "    Bounds.append(genBounds)\n",
    "    avgGaps.append(avgGenGap)\n",
    "    avgBounds.append(avgGenBound)"
   ]
  },
  {
   "cell_type": "code",
   "execution_count": null,
   "metadata": {},
   "outputs": [],
   "source": [
    "cmap = cm.get_cmap(\"viridis\")\n",
    "plt.scatter(range(len(classSeps)), avgGaps, label=\"Generalization Gap\", alpha=0.6, marker='^', s=80, c=cmap(0.3))\n",
    "plt.scatter(range(len(classSeps)), avgBounds, label=\"Generalization Bound\", alpha=0.6, s=80, c=cmap(0.8))\n",
    "#plt.scatter(range(len(classSeps)), avgTrainLosses5, label=\"Train Loss\")\n",
    "#plt.scatter(range(len(classSeps)), avgTestLosses5, label=\"Test Loss\")\n",
    "\n",
    "ax = plt.gca()\n",
    "ax.set_xticks(range(len(classSeps)))\n",
    "ax.set_xticklabels(classSeps)\n",
    "plt.xlabel(r\"class separation\")\n",
    "plt.legend()\n",
    "plt.savefig(\"genBoundApproxHardData.pdf\")\n",
    "plt.show()"
   ]
  },
  {
   "cell_type": "code",
   "execution_count": null,
   "metadata": {},
   "outputs": [],
   "source": []
  },
  {
   "cell_type": "code",
   "execution_count": null,
   "metadata": {},
   "outputs": [],
   "source": []
  }
 ],
 "metadata": {
  "kernelspec": {
   "display_name": "Python 3",
   "language": "python",
   "name": "python3"
  },
  "language_info": {
   "codemirror_mode": {
    "name": "ipython",
    "version": 3
   },
   "file_extension": ".py",
   "mimetype": "text/x-python",
   "name": "python",
   "nbconvert_exporter": "python",
   "pygments_lexer": "ipython3",
   "version": "3.6.3"
  },
  "latex_envs": {
   "LaTeX_envs_menu_present": true,
   "autocomplete": true,
   "bibliofile": "biblio.bib",
   "cite_by": "apalike",
   "current_citInitial": 1,
   "eqLabelWithNumbers": true,
   "eqNumInitial": 1,
   "hotkeys": {
    "equation": "Ctrl-E",
    "itemize": "Ctrl-I"
   },
   "labels_anchors": false,
   "latex_user_defs": false,
   "report_style_numbering": false,
   "user_envs_cfg": false
  }
 },
 "nbformat": 4,
 "nbformat_minor": 2
}
